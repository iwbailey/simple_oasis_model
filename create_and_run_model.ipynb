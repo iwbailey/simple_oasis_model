{
 "cells": [
  {
   "cell_type": "markdown",
   "metadata": {
    "slideshow": {
     "slide_type": "slide"
    }
   },
   "source": [
    "# An illustrative CAT model\n",
    "A very simplified example of a CAT model and how we would code it in OASIS"
   ]
  },
  {
   "cell_type": "code",
   "execution_count": 1,
   "metadata": {
    "slideshow": {
     "slide_type": "skip"
    }
   },
   "outputs": [],
   "source": [
    "import pandas as pd\n",
    "import numpy as np\n",
    "import matplotlib.pyplot as plt\n",
    "%matplotlib inline"
   ]
  },
  {
   "cell_type": "markdown",
   "metadata": {
    "slideshow": {
     "slide_type": "slide"
    }
   },
   "source": [
    "## A hypothetical island \n",
    "\n",
    "Suppose we have an island that is a square shape between coordinates 0<x<10 and 0<y<10.\n",
    "\n",
    "On the island we have a single circular city, and the value of property is highest in the centre, decreasing as we go out."
   ]
  },
  {
   "cell_type": "code",
   "execution_count": 2,
   "metadata": {
    "slideshow": {
     "slide_type": "subslide"
    }
   },
   "outputs": [
    {
     "data": {
      "image/png": "[encoded data removed]",
      "text/plain": [
       "<Figure size 432x288 with 2 Axes>"
      ]
     },
     "metadata": {},
     "output_type": "display_data"
    }
   ],
   "source": [
    "# Define the bounds of our domain and a grid\n",
    "x0, x1, nx = 1.0, 10.0, 10\n",
    "y0, y1, ny = 1.0, 10.0, 10\n",
    "\n",
    "# Assign some value to each grid point and make a city\n",
    "cityx, cityy = 7.0, 3.0\n",
    "stddev = 2.0\n",
    "xi = np.linspace(x0, x1, nx)\n",
    "yi = np.linspace(y0, y1, ny)\n",
    "xx, yy = np.meshgrid(xi, yi)\n",
    "\n",
    "# Value grid\n",
    "tiv = 100*np.exp( -((xx - cityx)**2 + (yy - cityy)**2) / (2 * stddev**2) )\n",
    "\n",
    "fig, ax = plt.subplots(1, 1)\n",
    "h = plt.contourf(xi, yi, tiv)\n",
    "_ = ax.set(xlim=(x0, x1), ylim=(y0, y1), aspect='equal')\n",
    "plt.title(\"Value on the island\")\n",
    "_ = plt.colorbar()"
   ]
  },
  {
   "cell_type": "markdown",
   "metadata": {
    "slideshow": {
     "slide_type": "slide"
    }
   },
   "source": [
    "## Hypothetical perils\n",
    "Suppose our island is affected by a type of storm that travels in a straight line across the island and affects a very narrow region around its path"
   ]
  },
  {
   "cell_type": "code",
   "execution_count": 3,
   "metadata": {
    "slideshow": {
     "slide_type": "subslide"
    }
   },
   "outputs": [
    {
     "data": {
      "image/png": "[encoded data removed]",
      "text/plain": [
       "<Figure size 432x288 with 1 Axes>"
      ]
     },
     "metadata": {},
     "output_type": "display_data"
    }
   ],
   "source": [
    "fig, ax = plt.subplots(1, 1)\n",
    "h = plt.contourf(xi, yi, tiv)\n",
    "ax.plot(xi, 2.0 + xi*np.tan(np.pi * 20/180), '-r')\n",
    "_ = ax.set(xlim=(x0, x1), ylim=(y0, y1), aspect='equal')\n",
    "\n"
   ]
  },
  {
   "cell_type": "markdown",
   "metadata": {
    "slideshow": {
     "slide_type": "slide"
    }
   },
   "source": [
    "## Create a hazard module\n",
    "The hazard module is a simulated set of hypothetical years, each containing a simulated set of events"
   ]
  },
  {
   "cell_type": "markdown",
   "metadata": {
    "slideshow": {
     "slide_type": "slide"
    }
   },
   "source": [
    "### Define intensities\n",
    "First we define how we quantify hazard intensity, e.g. wind speed, flood depth, ground shaking velocity. \n",
    "\n",
    "This is some measure that we can eventually relate to damage, and ideally that we can independently verify.\n",
    "\n",
    "In the OASIS framework, the intensity should be a categorical value. This can be a binning of some scalar value."
   ]
  },
  {
   "cell_type": "code",
   "execution_count": 4,
   "metadata": {
    "slideshow": {
     "slide_type": "subslide"
    }
   },
   "outputs": [
    {
     "data": {
      "text/html": [
       "<div>\n",
       "<style scoped>\n",
       "    .dataframe tbody tr th:only-of-type {\n",
       "        vertical-align: middle;\n",
       "    }\n",
       "\n",
       "    .dataframe tbody tr th {\n",
       "        vertical-align: top;\n",
       "    }\n",
       "\n",
       "    .dataframe thead th {\n",
       "        text-align: right;\n",
       "    }\n",
       "</style>\n",
       "<table border=\"1\" class=\"dataframe\">\n",
       "  <thead>\n",
       "    <tr style=\"text-align: right;\">\n",
       "      <th></th>\n",
       "      <th>intensity_bin_index</th>\n",
       "      <th>intensity_name</th>\n",
       "    </tr>\n",
       "    <tr>\n",
       "      <th>intensity_range</th>\n",
       "      <th></th>\n",
       "      <th></th>\n",
       "    </tr>\n",
       "  </thead>\n",
       "  <tbody>\n",
       "    <tr>\n",
       "      <th>(0.0, 0.1]</th>\n",
       "      <td>1</td>\n",
       "      <td>low</td>\n",
       "    </tr>\n",
       "    <tr>\n",
       "      <th>(0.1, 0.2]</th>\n",
       "      <td>2</td>\n",
       "      <td>moderate</td>\n",
       "    </tr>\n",
       "    <tr>\n",
       "      <th>(0.2, 0.5]</th>\n",
       "      <td>3</td>\n",
       "      <td>high</td>\n",
       "    </tr>\n",
       "    <tr>\n",
       "      <th>(0.5, 1.0]</th>\n",
       "      <td>4</td>\n",
       "      <td>higher</td>\n",
       "    </tr>\n",
       "    <tr>\n",
       "      <th>(1.0, 2.0]</th>\n",
       "      <td>5</td>\n",
       "      <td>highest</td>\n",
       "    </tr>\n",
       "  </tbody>\n",
       "</table>\n",
       "</div>"
      ],
      "text/plain": [
       "                 intensity_bin_index intensity_name\n",
       "intensity_range                                    \n",
       "(0.0, 0.1]                         1            low\n",
       "(0.1, 0.2]                         2       moderate\n",
       "(0.2, 0.5]                         3           high\n",
       "(0.5, 1.0]                         4         higher\n",
       "(1.0, 2.0]                         5        highest"
      ]
     },
     "execution_count": 4,
     "metadata": {},
     "output_type": "execute_result"
    }
   ],
   "source": [
    "intensity_bins = pd.DataFrame({'intensity_bin_index': range(1, 6),\n",
    "                            'intensity_name': ['low', 'moderate', 'high', 'higher', 'highest'],\n",
    "                           },\n",
    "                           index=pd.IntervalIndex.from_breaks([0, 0.1, 0.2, 0.5, 1.0, 2.0], \n",
    "                                                              name='intensity_range')\n",
    "                           )\n",
    "intensity_bins"
   ]
  },
  {
   "cell_type": "markdown",
   "metadata": {
    "slideshow": {
     "slide_type": "slide"
    }
   },
   "source": [
    "### Define some stochastic events\n",
    "Simulating events is usually a two step process...\n",
    "1 - You calculate a catalog of the events themselves (e.g. hurricane, earthquake, ...)\n",
    "2 - You calculate the intensity footprint of each event\n",
    "\n",
    "In our case, we simplify step 2 by saying that intensity is equal to severity along the track"
   ]
  },
  {
   "cell_type": "code",
   "execution_count": 5,
   "metadata": {
    "slideshow": {
     "slide_type": "subslide"
    }
   },
   "outputs": [
    {
     "data": {
      "text/html": [
       "<div>\n",
       "<style scoped>\n",
       "    .dataframe tbody tr th:only-of-type {\n",
       "        vertical-align: middle;\n",
       "    }\n",
       "\n",
       "    .dataframe tbody tr th {\n",
       "        vertical-align: top;\n",
       "    }\n",
       "\n",
       "    .dataframe thead th {\n",
       "        text-align: right;\n",
       "    }\n",
       "</style>\n",
       "<table border=\"1\" class=\"dataframe\">\n",
       "  <thead>\n",
       "    <tr style=\"text-align: right;\">\n",
       "      <th></th>\n",
       "      <th>time</th>\n",
       "      <th>severity</th>\n",
       "      <th>y0</th>\n",
       "      <th>theta</th>\n",
       "    </tr>\n",
       "    <tr>\n",
       "      <th>event_id</th>\n",
       "      <th></th>\n",
       "      <th></th>\n",
       "      <th></th>\n",
       "      <th></th>\n",
       "    </tr>\n",
       "  </thead>\n",
       "  <tbody>\n",
       "    <tr>\n",
       "      <th>1</th>\n",
       "      <td>4.550382</td>\n",
       "      <td>0.474897</td>\n",
       "      <td>4.270717</td>\n",
       "      <td>0.502271</td>\n",
       "    </tr>\n",
       "    <tr>\n",
       "      <th>2</th>\n",
       "      <td>5.139803</td>\n",
       "      <td>0.209358</td>\n",
       "      <td>3.650509</td>\n",
       "      <td>0.503165</td>\n",
       "    </tr>\n",
       "    <tr>\n",
       "      <th>3</th>\n",
       "      <td>9.274795</td>\n",
       "      <td>0.575813</td>\n",
       "      <td>2.379427</td>\n",
       "      <td>0.461216</td>\n",
       "    </tr>\n",
       "    <tr>\n",
       "      <th>4</th>\n",
       "      <td>10.594073</td>\n",
       "      <td>0.058227</td>\n",
       "      <td>3.423178</td>\n",
       "      <td>0.607576</td>\n",
       "    </tr>\n",
       "    <tr>\n",
       "      <th>5</th>\n",
       "      <td>11.063786</td>\n",
       "      <td>0.473480</td>\n",
       "      <td>2.743074</td>\n",
       "      <td>0.392639</td>\n",
       "    </tr>\n",
       "  </tbody>\n",
       "</table>\n",
       "</div>"
      ],
      "text/plain": [
       "               time  severity        y0     theta\n",
       "event_id                                         \n",
       "1          4.550382  0.474897  4.270717  0.502271\n",
       "2          5.139803  0.209358  3.650509  0.503165\n",
       "3          9.274795  0.575813  2.379427  0.461216\n",
       "4         10.594073  0.058227  3.423178  0.607576\n",
       "5         11.063786  0.473480  2.743074  0.392639"
      ]
     },
     "execution_count": 5,
     "metadata": {},
     "output_type": "execute_result"
    }
   ],
   "source": [
    "# Define a set of events that affect our model domain\n",
    "n_years = 1000  # Number of years to simulate\n",
    "avg_freq = 1/2  # Poisson rate of event occurrence per year\n",
    "alpha = 5.0  # Pareto alpha for the event severity\n",
    "y0_mean = 3.0  # Track geometry\n",
    "y0_std = 1.0\n",
    "theta_mean = 30 *np.pi / 180 \n",
    "theta_kappa = 50\n",
    "\n",
    "np.random.seed(1234556)\n",
    "\n",
    "# Calculate number of events\n",
    "n_events = np.random.poisson(lam=n_years*avg_freq)\n",
    "\n",
    "# Define event parameters\n",
    "events = pd.DataFrame({\n",
    "    'time': np.random.uniform(low=0, high=n_years, size=n_events),\n",
    "    'severity':  np.random.pareto(a=alpha, size=n_events),\n",
    "    'y0': np.random.normal(loc=y0_mean, scale=y0_std, size=n_events),\n",
    "    'theta': np.random.vonmises(mu=theta_mean, kappa=theta_kappa, size=n_events)\n",
    "}).sort_values('time').reset_index(drop=True)\n",
    "events.index = pd.Index(range(1, len(events) + 1), name='event_id')\n",
    "events.head()"
   ]
  },
  {
   "cell_type": "code",
   "execution_count": 6,
   "metadata": {
    "slideshow": {
     "slide_type": "subslide"
    }
   },
   "outputs": [
    {
     "data": {
      "image/png": "[encoded data removed]",
      "text/plain": [
       "<Figure size 432x288 with 1 Axes>"
      ]
     },
     "metadata": {},
     "output_type": "display_data"
    }
   ],
   "source": [
    "# Plot tracks\n",
    "xi = np.linspace(x0, x1, nx)\n",
    "fig, ax = plt.subplots(1, 1)\n",
    "for idx, row in events.iterrows():\n",
    "    yi = row.y0 + xi * np.tan(row.theta)\n",
    "    ax.plot(xi, yi)\n",
    "plt.grid()\n",
    "_ = ax.set(xlim=(x0, x1), ylim=(y0, y1), aspect='equal')\n",
    "\n",
    "# events"
   ]
  },
  {
   "cell_type": "markdown",
   "metadata": {
    "slideshow": {
     "slide_type": "slide"
    }
   },
   "source": [
    "### Define intensity calculation zonation\n",
    "In order to calculate intensity from events on our island, we need to first divide up the island into sub-areas -- an **_areperil_** in OASIS terminology.\n",
    "\n",
    "This division should capture the granularity of intensity variations from a single event.\n",
    "\n",
    "We can use the same grid as we did for defining the value distribution over our island. This is a bit of a short cut because we won't have to add a step to map our exposure to areaperils."
   ]
  },
  {
   "cell_type": "code",
   "execution_count": 7,
   "metadata": {
    "slideshow": {
     "slide_type": "subslide"
    }
   },
   "outputs": [
    {
     "data": {
      "image/png": "[encoded data removed]",
      "text/plain": [
       "<Figure size 432x288 with 1 Axes>"
      ]
     },
     "metadata": {},
     "output_type": "display_data"
    }
   ],
   "source": [
    "# Define the areaperil table\n",
    "area_perils = pd.DataFrame({'x': xx.flatten(), 'y': yy.flatten(), 'tiv': tiv.flatten()})\n",
    "area_perils.index = pd.Index(range(1, len(area_perils) + 1), name='areaperil_id')\n",
    "\n",
    "# Plot\n",
    "ax = area_perils.plot.scatter('x', 'y')\n",
    "_ = ax.set(aspect='equal')"
   ]
  },
  {
   "cell_type": "markdown",
   "metadata": {
    "slideshow": {
     "slide_type": "slide"
    }
   },
   "source": [
    "### Calculate the footprint table\n",
    "The OASIS footprint table has the following columns. It defines the intensity from each event at each areaperil. You can incorporate an intensity distribution to incorporate uncertainty, but we don't (prob=1.0).\n",
    "\n",
    "| Name               | Type   |  Bytes | Description                                                   | Example     |\n",
    "|:-------------------|--------|--------| :-------------------------------------------------------------|------------:|\n",
    "| event_id           | int    |    4   | Oasis event_id                                                |     1       |\n",
    "| areaperil_id       | int    |    4   | Oasis areaperil_id                                            |   4545      |\n",
    "| intensity_bin_index| int    |    4   | Identifier of the intensity damage bin                        |     10      |\n",
    "| prob               | float  |    4   | The probability mass for the intensity bin between 0 and 1    |    0.765    | "
   ]
  },
  {
   "cell_type": "code",
   "execution_count": 8,
   "metadata": {
    "slideshow": {
     "slide_type": "notes"
    }
   },
   "outputs": [
    {
     "data": {
      "text/html": [
       "<div>\n",
       "<style scoped>\n",
       "    .dataframe tbody tr th:only-of-type {\n",
       "        vertical-align: middle;\n",
       "    }\n",
       "\n",
       "    .dataframe tbody tr th {\n",
       "        vertical-align: top;\n",
       "    }\n",
       "\n",
       "    .dataframe thead th {\n",
       "        text-align: right;\n",
       "    }\n",
       "</style>\n",
       "<table border=\"1\" class=\"dataframe\">\n",
       "  <thead>\n",
       "    <tr style=\"text-align: right;\">\n",
       "      <th></th>\n",
       "      <th></th>\n",
       "      <th></th>\n",
       "      <th>prob</th>\n",
       "    </tr>\n",
       "    <tr>\n",
       "      <th>event_id</th>\n",
       "      <th>areaperil_id</th>\n",
       "      <th>intensity_id</th>\n",
       "      <th></th>\n",
       "    </tr>\n",
       "  </thead>\n",
       "  <tbody>\n",
       "    <tr>\n",
       "      <th rowspan=\"5\" valign=\"top\">1</th>\n",
       "      <th>31</th>\n",
       "      <th>3</th>\n",
       "      <td>1.0</td>\n",
       "    </tr>\n",
       "    <tr>\n",
       "      <th>41</th>\n",
       "      <th>3</th>\n",
       "      <td>1.0</td>\n",
       "    </tr>\n",
       "    <tr>\n",
       "      <th>42</th>\n",
       "      <th>3</th>\n",
       "      <td>1.0</td>\n",
       "    </tr>\n",
       "    <tr>\n",
       "      <th>43</th>\n",
       "      <th>3</th>\n",
       "      <td>1.0</td>\n",
       "    </tr>\n",
       "    <tr>\n",
       "      <th>53</th>\n",
       "      <th>3</th>\n",
       "      <td>1.0</td>\n",
       "    </tr>\n",
       "  </tbody>\n",
       "</table>\n",
       "</div>"
      ],
      "text/plain": [
       "                                    prob\n",
       "event_id areaperil_id intensity_id      \n",
       "1        31           3              1.0\n",
       "         41           3              1.0\n",
       "         42           3              1.0\n",
       "         43           3              1.0\n",
       "         53           3              1.0"
      ]
     },
     "execution_count": 8,
     "metadata": {},
     "output_type": "execute_result"
    }
   ],
   "source": [
    "# calculate the footprints\n",
    "xi = np.linspace(x0, x1, nx*10) \n",
    "footprints = pd.DataFrame([], columns=['event_id', 'areaperil_id', 'intensity_id', 'prob'])\n",
    "for idx, row in events.iterrows():\n",
    "\n",
    "    yi = row.y0 + xi * np.tan(row.theta)\n",
    "    intensity = min(row.severity, intensity_bins.index.right.max())\n",
    "    \n",
    "    fp = (pd.DataFrame({'x': np.round((xi - x0)*(x1 - x0) / (nx - 1)), \n",
    "                        'y': np.round((yi - y0)*(y1 - y0) / (ny - 1))})\n",
    "          .drop_duplicates()\n",
    "          .assign(intensity_id=intensity_bins['intensity_bin_index'][intensity])\n",
    "          .assign(event_id=idx)\n",
    "          .merge(area_perils[['x', 'y']].reset_index(), how='inner', on=['x', 'y'])\n",
    "          .assign(prob=1.0)\n",
    "         )\n",
    " \n",
    "    footprints = footprints.append(\n",
    "        fp[['event_id', 'areaperil_id', 'intensity_id', 'prob']])\n",
    "\n",
    "footprints.set_index(['event_id', 'areaperil_id', 'intensity_id']).head()"
   ]
  },
  {
   "cell_type": "code",
   "execution_count": 9,
   "metadata": {
    "scrolled": false,
    "slideshow": {
     "slide_type": "subslide"
    }
   },
   "outputs": [
    {
     "data": {
      "text/html": [
       "<div>\n",
       "<style scoped>\n",
       "    .dataframe tbody tr th:only-of-type {\n",
       "        vertical-align: middle;\n",
       "    }\n",
       "\n",
       "    .dataframe tbody tr th {\n",
       "        vertical-align: top;\n",
       "    }\n",
       "\n",
       "    .dataframe thead th {\n",
       "        text-align: right;\n",
       "    }\n",
       "</style>\n",
       "<table border=\"1\" class=\"dataframe\">\n",
       "  <thead>\n",
       "    <tr style=\"text-align: right;\">\n",
       "      <th></th>\n",
       "      <th>event_id</th>\n",
       "      <th>areaperil_id</th>\n",
       "      <th>intensity_id</th>\n",
       "      <th>prob</th>\n",
       "    </tr>\n",
       "  </thead>\n",
       "  <tbody>\n",
       "    <tr>\n",
       "      <th>0</th>\n",
       "      <td>1</td>\n",
       "      <td>31</td>\n",
       "      <td>3</td>\n",
       "      <td>1.0</td>\n",
       "    </tr>\n",
       "    <tr>\n",
       "      <th>1</th>\n",
       "      <td>1</td>\n",
       "      <td>41</td>\n",
       "      <td>3</td>\n",
       "      <td>1.0</td>\n",
       "    </tr>\n",
       "    <tr>\n",
       "      <th>2</th>\n",
       "      <td>1</td>\n",
       "      <td>42</td>\n",
       "      <td>3</td>\n",
       "      <td>1.0</td>\n",
       "    </tr>\n",
       "    <tr>\n",
       "      <th>3</th>\n",
       "      <td>1</td>\n",
       "      <td>43</td>\n",
       "      <td>3</td>\n",
       "      <td>1.0</td>\n",
       "    </tr>\n",
       "    <tr>\n",
       "      <th>4</th>\n",
       "      <td>1</td>\n",
       "      <td>53</td>\n",
       "      <td>3</td>\n",
       "      <td>1.0</td>\n",
       "    </tr>\n",
       "  </tbody>\n",
       "</table>\n",
       "</div>"
      ],
      "text/plain": [
       "  event_id areaperil_id intensity_id  prob\n",
       "0        1           31            3   1.0\n",
       "1        1           41            3   1.0\n",
       "2        1           42            3   1.0\n",
       "3        1           43            3   1.0\n",
       "4        1           53            3   1.0"
      ]
     },
     "execution_count": 9,
     "metadata": {},
     "output_type": "execute_result"
    }
   ],
   "source": [
    "footprints.head()"
   ]
  },
  {
   "cell_type": "markdown",
   "metadata": {
    "slideshow": {
     "slide_type": "slide"
    }
   },
   "source": [
    "## Create a vulnerabilty module\n",
    "The vulnerability module is a database of mapping tables that convert hazard intensity into damage, depending on the characteristics of the risk affected."
   ]
  },
  {
   "cell_type": "markdown",
   "metadata": {
    "slideshow": {
     "slide_type": "slide"
    }
   },
   "source": [
    "### Define vulnerability\n",
    "_Vulnerability_ defines how hazard relates to damage.\n",
    "\n",
    "_Damage_ is typically characterized as a ratio to the total value of the insured item.\n",
    "\n",
    "We'd usually define different vulnerability for different risk types (e.g. house vs boat vs factory). Here, just one.\n",
    "\n",
    "Also the uncertainty of expected damage is simplified to one of two values here. It usually would be more sophisticated."
   ]
  },
  {
   "cell_type": "code",
   "execution_count": 10,
   "metadata": {
    "slideshow": {
     "slide_type": "subslide"
    }
   },
   "outputs": [
    {
     "data": {
      "image/png": "[encoded data removed]",
      "text/plain": [
       "<Figure size 432x288 with 1 Axes>"
      ]
     },
     "metadata": {},
     "output_type": "display_data"
    }
   ],
   "source": [
    "# For each intensty, the probability that there's zero damage\n",
    "intensity_bins['prob_zero_damage'] = [0.9, 0.75, 0.6, 0.45, 0.3]\n",
    "\n",
    "# For each intensity, the expected damage ratio on condition that damage occurs\n",
    "intensity_bins['exp_damage_ratio_if_damage'] = [0.05, 0.25, 0.45, 0.75, 1.0]\n",
    "\n",
    "_ = intensity_bins.drop('intensity_bin_index', axis=1).plot.bar('intensity_name', grid=True)\n",
    "#intensity_bins"
   ]
  },
  {
   "cell_type": "markdown",
   "metadata": {
    "slideshow": {
     "slide_type": "slide"
    }
   },
   "source": [
    "### Damage bin table\n",
    "For OASIS, we have to quantify damage into specific pre-defined bins.\n",
    "```\n",
    "bin_index, bin_from, bin_to, interpolation, interval_type\n",
    "```"
   ]
  },
  {
   "cell_type": "code",
   "execution_count": 11,
   "metadata": {
    "slideshow": {
     "slide_type": "subslide"
    }
   },
   "outputs": [
    {
     "data": {
      "text/html": [
       "<div>\n",
       "<style scoped>\n",
       "    .dataframe tbody tr th:only-of-type {\n",
       "        vertical-align: middle;\n",
       "    }\n",
       "\n",
       "    .dataframe tbody tr th {\n",
       "        vertical-align: top;\n",
       "    }\n",
       "\n",
       "    .dataframe thead th {\n",
       "        text-align: right;\n",
       "    }\n",
       "</style>\n",
       "<table border=\"1\" class=\"dataframe\">\n",
       "  <thead>\n",
       "    <tr style=\"text-align: right;\">\n",
       "      <th></th>\n",
       "      <th>bin_from</th>\n",
       "      <th>bin_to</th>\n",
       "      <th>interpolation</th>\n",
       "      <th>interval_type</th>\n",
       "    </tr>\n",
       "    <tr>\n",
       "      <th>bin_index</th>\n",
       "      <th></th>\n",
       "      <th></th>\n",
       "      <th></th>\n",
       "      <th></th>\n",
       "    </tr>\n",
       "  </thead>\n",
       "  <tbody>\n",
       "    <tr>\n",
       "      <th>1</th>\n",
       "      <td>0.0</td>\n",
       "      <td>0.0</td>\n",
       "      <td>0.00</td>\n",
       "      <td>1201</td>\n",
       "    </tr>\n",
       "    <tr>\n",
       "      <th>2</th>\n",
       "      <td>0.0</td>\n",
       "      <td>0.1</td>\n",
       "      <td>0.05</td>\n",
       "      <td>1201</td>\n",
       "    </tr>\n",
       "    <tr>\n",
       "      <th>3</th>\n",
       "      <td>0.1</td>\n",
       "      <td>0.2</td>\n",
       "      <td>0.15</td>\n",
       "      <td>1201</td>\n",
       "    </tr>\n",
       "    <tr>\n",
       "      <th>4</th>\n",
       "      <td>0.2</td>\n",
       "      <td>0.3</td>\n",
       "      <td>0.25</td>\n",
       "      <td>1201</td>\n",
       "    </tr>\n",
       "    <tr>\n",
       "      <th>5</th>\n",
       "      <td>0.3</td>\n",
       "      <td>0.4</td>\n",
       "      <td>0.35</td>\n",
       "      <td>1201</td>\n",
       "    </tr>\n",
       "    <tr>\n",
       "      <th>6</th>\n",
       "      <td>0.4</td>\n",
       "      <td>0.5</td>\n",
       "      <td>0.45</td>\n",
       "      <td>1201</td>\n",
       "    </tr>\n",
       "    <tr>\n",
       "      <th>7</th>\n",
       "      <td>0.5</td>\n",
       "      <td>0.6</td>\n",
       "      <td>0.55</td>\n",
       "      <td>1201</td>\n",
       "    </tr>\n",
       "    <tr>\n",
       "      <th>8</th>\n",
       "      <td>0.6</td>\n",
       "      <td>0.7</td>\n",
       "      <td>0.65</td>\n",
       "      <td>1201</td>\n",
       "    </tr>\n",
       "    <tr>\n",
       "      <th>9</th>\n",
       "      <td>0.7</td>\n",
       "      <td>0.8</td>\n",
       "      <td>0.75</td>\n",
       "      <td>1201</td>\n",
       "    </tr>\n",
       "    <tr>\n",
       "      <th>10</th>\n",
       "      <td>0.8</td>\n",
       "      <td>0.9</td>\n",
       "      <td>0.85</td>\n",
       "      <td>1201</td>\n",
       "    </tr>\n",
       "    <tr>\n",
       "      <th>11</th>\n",
       "      <td>0.9</td>\n",
       "      <td>1.0</td>\n",
       "      <td>0.95</td>\n",
       "      <td>1201</td>\n",
       "    </tr>\n",
       "    <tr>\n",
       "      <th>12</th>\n",
       "      <td>1.0</td>\n",
       "      <td>1.0</td>\n",
       "      <td>1.00</td>\n",
       "      <td>1201</td>\n",
       "    </tr>\n",
       "  </tbody>\n",
       "</table>\n",
       "</div>"
      ],
      "text/plain": [
       "           bin_from  bin_to  interpolation  interval_type\n",
       "bin_index                                                \n",
       "1               0.0     0.0           0.00           1201\n",
       "2               0.0     0.1           0.05           1201\n",
       "3               0.1     0.2           0.15           1201\n",
       "4               0.2     0.3           0.25           1201\n",
       "5               0.3     0.4           0.35           1201\n",
       "6               0.4     0.5           0.45           1201\n",
       "7               0.5     0.6           0.55           1201\n",
       "8               0.6     0.7           0.65           1201\n",
       "9               0.7     0.8           0.75           1201\n",
       "10              0.8     0.9           0.85           1201\n",
       "11              0.9     1.0           0.95           1201\n",
       "12              1.0     1.0           1.00           1201"
      ]
     },
     "execution_count": 11,
     "metadata": {},
     "output_type": "execute_result"
    }
   ],
   "source": [
    "# Define damage bins\n",
    "bin_edges = np.append(0.0, np.append(np.linspace(0.0, 1.0, 11), 1.0))\n",
    "damage_bins = pd.DataFrame({\n",
    "    'bin_from': bin_edges[:-1],\n",
    "    'bin_to': bin_edges[1:],\n",
    "}, index = pd.Index(range(1, len(bin_edges)), name='bin_index'))\n",
    "damage_bins['interpolation'] = 0.5*(damage_bins['bin_from'] + damage_bins['bin_to'])\n",
    "damage_bins['interval_type'] = 1201\n",
    "damage_bins"
   ]
  },
  {
   "cell_type": "markdown",
   "metadata": {
    "slideshow": {
     "slide_type": "slide"
    }
   },
   "source": [
    "### Vulnerabilty table\n",
    "\n",
    "| Name                 | Type   |  Bytes | Description                                   | Example   |\n",
    "|:---------------------|--------|--------| :---------------------------------------------|----------:|\n",
    "| vulnerability_id     | int    |    4   | Oasis vulnerability_id                        |     45    |\n",
    "| intensity_bin_index  | int    |    4   | Identifier of the hazard intensity bin        |     10    |\n",
    "| damage_bin_index     | int    |    4   | Identifier of the damage bin                  |     20    |\n",
    "| prob                 | float  |    4   | The probability mass for the damage bin       |    0.186  | \n"
   ]
  },
  {
   "cell_type": "code",
   "execution_count": 12,
   "metadata": {
    "slideshow": {
     "slide_type": "notes"
    }
   },
   "outputs": [],
   "source": [
    "vuln_id = 1\n",
    "\n",
    "# Get the damage bin for each expected damage ratio\n",
    "bin_edges[-1] = np.inf\n",
    "damage_bin_ids = (pd.Series(damage_bins.index, \n",
    "                            index=pd.IntervalIndex.from_breaks(bin_edges, closed='left'))\n",
    "                 [intensity_bins['exp_damage_ratio_if_damage']].values\n",
    "                 )\n",
    "\n",
    "# Get the zero damage probabilities\n",
    "vulnerability = (intensity_bins[['intensity_bin_index', 'prob_zero_damage']]\n",
    "                 .reset_index(drop=True)\n",
    "                 .assign(vulnerability_id=vuln_id)\n",
    "                 .assign(damage_bin_index=damage_bins.index.values[0])\n",
    "                 .rename(columns={'prob_zero_damage': 'prob'})\n",
    "                )\n",
    "\n",
    "# Get the non-zero damage probabilities\n",
    "vulnerability = vulnerability.append(vulnerability\n",
    "                                      .assign(damage_bin_index=damage_bin_ids)\n",
    "                                      .assign(prob=lambda df: 1 - df['prob'])\n",
    "                                     )[['vulnerability_id', \n",
    "                                        'intensity_bin_index', \n",
    "                                        'damage_bin_index', \n",
    "                                        'prob']].sort_values(['vulnerability_id', \n",
    "                                        'intensity_bin_index', \n",
    "                                        'damage_bin_index', \n",
    "                                        'prob'])\n",
    "assert all(vulnerability.groupby(\n",
    "    ['vulnerability_id', 'intensity_bin_index'])['prob'].sum() == 1.0)"
   ]
  },
  {
   "cell_type": "code",
   "execution_count": 13,
   "metadata": {
    "slideshow": {
     "slide_type": "subslide"
    }
   },
   "outputs": [
    {
     "data": {
      "text/html": [
       "<div>\n",
       "<style scoped>\n",
       "    .dataframe tbody tr th:only-of-type {\n",
       "        vertical-align: middle;\n",
       "    }\n",
       "\n",
       "    .dataframe tbody tr th {\n",
       "        vertical-align: top;\n",
       "    }\n",
       "\n",
       "    .dataframe thead th {\n",
       "        text-align: right;\n",
       "    }\n",
       "</style>\n",
       "<table border=\"1\" class=\"dataframe\">\n",
       "  <thead>\n",
       "    <tr style=\"text-align: right;\">\n",
       "      <th></th>\n",
       "      <th>vulnerability_id</th>\n",
       "      <th>intensity_bin_index</th>\n",
       "      <th>damage_bin_index</th>\n",
       "      <th>prob</th>\n",
       "    </tr>\n",
       "  </thead>\n",
       "  <tbody>\n",
       "    <tr>\n",
       "      <th>0</th>\n",
       "      <td>1</td>\n",
       "      <td>1</td>\n",
       "      <td>1</td>\n",
       "      <td>0.90</td>\n",
       "    </tr>\n",
       "    <tr>\n",
       "      <th>0</th>\n",
       "      <td>1</td>\n",
       "      <td>1</td>\n",
       "      <td>2</td>\n",
       "      <td>0.10</td>\n",
       "    </tr>\n",
       "    <tr>\n",
       "      <th>1</th>\n",
       "      <td>1</td>\n",
       "      <td>2</td>\n",
       "      <td>1</td>\n",
       "      <td>0.75</td>\n",
       "    </tr>\n",
       "    <tr>\n",
       "      <th>1</th>\n",
       "      <td>1</td>\n",
       "      <td>2</td>\n",
       "      <td>4</td>\n",
       "      <td>0.25</td>\n",
       "    </tr>\n",
       "    <tr>\n",
       "      <th>2</th>\n",
       "      <td>1</td>\n",
       "      <td>3</td>\n",
       "      <td>1</td>\n",
       "      <td>0.60</td>\n",
       "    </tr>\n",
       "    <tr>\n",
       "      <th>2</th>\n",
       "      <td>1</td>\n",
       "      <td>3</td>\n",
       "      <td>6</td>\n",
       "      <td>0.40</td>\n",
       "    </tr>\n",
       "    <tr>\n",
       "      <th>3</th>\n",
       "      <td>1</td>\n",
       "      <td>4</td>\n",
       "      <td>1</td>\n",
       "      <td>0.45</td>\n",
       "    </tr>\n",
       "    <tr>\n",
       "      <th>3</th>\n",
       "      <td>1</td>\n",
       "      <td>4</td>\n",
       "      <td>9</td>\n",
       "      <td>0.55</td>\n",
       "    </tr>\n",
       "    <tr>\n",
       "      <th>4</th>\n",
       "      <td>1</td>\n",
       "      <td>5</td>\n",
       "      <td>1</td>\n",
       "      <td>0.30</td>\n",
       "    </tr>\n",
       "    <tr>\n",
       "      <th>4</th>\n",
       "      <td>1</td>\n",
       "      <td>5</td>\n",
       "      <td>12</td>\n",
       "      <td>0.70</td>\n",
       "    </tr>\n",
       "  </tbody>\n",
       "</table>\n",
       "</div>"
      ],
      "text/plain": [
       "   vulnerability_id  intensity_bin_index  damage_bin_index  prob\n",
       "0                 1                    1                 1  0.90\n",
       "0                 1                    1                 2  0.10\n",
       "1                 1                    2                 1  0.75\n",
       "1                 1                    2                 4  0.25\n",
       "2                 1                    3                 1  0.60\n",
       "2                 1                    3                 6  0.40\n",
       "3                 1                    4                 1  0.45\n",
       "3                 1                    4                 9  0.55\n",
       "4                 1                    5                 1  0.30\n",
       "4                 1                    5                12  0.70"
      ]
     },
     "execution_count": 13,
     "metadata": {},
     "output_type": "execute_result"
    }
   ],
   "source": [
    "vulnerability"
   ]
  },
  {
   "cell_type": "markdown",
   "metadata": {
    "slideshow": {
     "slide_type": "slide"
    }
   },
   "source": [
    "## Set up OASIS \"static\" data tables\n",
    "These are the model files that don't change from one run to another"
   ]
  },
  {
   "cell_type": "code",
   "execution_count": 14,
   "metadata": {
    "slideshow": {
     "slide_type": "subslide"
    }
   },
   "outputs": [
    {
     "name": "stdout",
     "output_type": "stream",
     "text": [
      "total 92\r\n",
      "-rw-rw----. 1 u006448 NATCAT_RND   445 Apr  2 16:24 damage_bin_dict.csv\r\n",
      "-rw-rw----. 1 u006448 NATCAT_RND 83100 Apr  2 16:24 footprint.csv\r\n",
      "-rw-rw----. 1 u006448 NATCAT_RND   180 Apr  2 16:24 vulnerability.csv\r\n"
     ]
    }
   ],
   "source": [
    "# Write static data tables to file\n",
    "import os\n",
    "import shutil\n",
    "\n",
    "# Make a fresh folder. These files must have the right name and directory.\n",
    "if os.path.exists('static'):\n",
    "    shutil.rmtree('static')\n",
    "os.makedirs(\"static\")\n",
    "\n",
    "# Write the csv files\n",
    "damage_bins.to_csv('static/damage_bin_dict.csv', index=True)\n",
    "vulnerability.to_csv('static/vulnerability.csv', index=False)\n",
    "footprints.to_csv('static/footprint.csv', index=False)\n",
    "\n",
    "# These parameters needed for binary conversion\n",
    "n_damage_bins = len(damage_bins)\n",
    "n_intensity_bins = len(intensity_bins)\n",
    "\n",
    "!ls -l static"
   ]
  },
  {
   "cell_type": "markdown",
   "metadata": {
    "slideshow": {
     "slide_type": "subslide"
    }
   },
   "source": [
    "### Convert from csv to OASIS binary format, using OASIS tools"
   ]
  },
  {
   "cell_type": "code",
   "execution_count": 15,
   "metadata": {
    "slideshow": {
     "slide_type": "subslide"
    }
   },
   "outputs": [
    {
     "name": "stdout",
     "output_type": "stream",
     "text": [
      "total 192\n",
      "-rw-rw----. 1 u006448 NATCAT_RND   240 Apr  2 16:24 damage_bin_dict.bin\n",
      "-rw-rw----. 1 u006448 NATCAT_RND   445 Apr  2 16:24 damage_bin_dict.csv\n",
      "-rw-rw----. 1 u006448 NATCAT_RND 78056 Apr  2 16:24 footprint.bin\n",
      "-rw-rw----. 1 u006448 NATCAT_RND 83100 Apr  2 16:24 footprint.csv\n",
      "-rw-rw----. 1 u006448 NATCAT_RND  9820 Apr  2 16:24 footprint.idx\n",
      "-rw-rw----. 1 u006448 NATCAT_RND   164 Apr  2 16:24 vulnerability.bin\n",
      "-rw-rw----. 1 u006448 NATCAT_RND   180 Apr  2 16:24 vulnerability.csv\n"
     ]
    }
   ],
   "source": [
    "%%bash -s \"$n_damage_bins\" \"$n_intensity_bins\"\n",
    "PATH=$(pwd)/venv/bin/:$PATH\n",
    "\n",
    "# Convert the damage bin file\n",
    "damagebintobin < static/damage_bin_dict.csv > static/damage_bin_dict.bin\n",
    "\n",
    "# Convert the vulnerability file\n",
    "vulnerabilitytobin -d $1 < static/vulnerability.csv > static/vulnerability.bin\n",
    "\n",
    "# Convert the footprint table, assuming no intensity uncertainty\n",
    "cd static\n",
    "footprinttobin -i $2 -n < footprint.csv\n",
    "cd ..\n",
    "\n",
    "ls -l static"
   ]
  },
  {
   "cell_type": "markdown",
   "metadata": {
    "slideshow": {
     "slide_type": "slide"
    }
   },
   "source": [
    "## Create the OASIS input files\n",
    "These are files that change depending on ...\n",
    "\n",
    "1 - the input exposure for which you want to calculate loss\n",
    "2 - the analysis settings"
   ]
  },
  {
   "cell_type": "markdown",
   "metadata": {
    "slideshow": {
     "slide_type": "slide"
    }
   },
   "source": [
    "### Exposure input files\n",
    "We will skip the financial engine and run ground up loss. In that case, we need two files:\n",
    "1. coverages: detailing the value of each coverage\n",
    "2. items: mapping the coverages to areaperils and vulnerabilities, also defining correlation of uncertainty sampling\n",
    "\n",
    "| Name              | Type   | Bytes | Description                                    | Example   |\n",
    "|:------------------|--------|-------|:-----------------------------------------------|----------:|\n",
    "| item_id           | int    |   4   | Identifier of the exposure item                |    1      |\n",
    "| coverage_id       | int    |   4   | Identifier of the coverage                     |    3      |\n",
    "| areaperil_id      | int    |   4   | Identifier of the locator and peril            |   4545    |\n",
    "| vulnerability_id  | int    |   4   | Identifier of the vulnerability distribution   |   645     |\n",
    "| group_id\t\t\t| int    |   4   | Identifier of the correlaton group             |    3      |"
   ]
  },
  {
   "cell_type": "code",
   "execution_count": 16,
   "metadata": {
    "slideshow": {
     "slide_type": "subslide"
    }
   },
   "outputs": [
    {
     "data": {
      "text/html": [
       "<div>\n",
       "<style scoped>\n",
       "    .dataframe tbody tr th:only-of-type {\n",
       "        vertical-align: middle;\n",
       "    }\n",
       "\n",
       "    .dataframe tbody tr th {\n",
       "        vertical-align: top;\n",
       "    }\n",
       "\n",
       "    .dataframe thead th {\n",
       "        text-align: right;\n",
       "    }\n",
       "</style>\n",
       "<table border=\"1\" class=\"dataframe\">\n",
       "  <thead>\n",
       "    <tr style=\"text-align: right;\">\n",
       "      <th></th>\n",
       "      <th>tiv</th>\n",
       "    </tr>\n",
       "    <tr>\n",
       "      <th>coverage_id</th>\n",
       "      <th></th>\n",
       "    </tr>\n",
       "  </thead>\n",
       "  <tbody>\n",
       "    <tr>\n",
       "      <th>1</th>\n",
       "      <td>0.673795</td>\n",
       "    </tr>\n",
       "    <tr>\n",
       "      <th>2</th>\n",
       "      <td>2.664910</td>\n",
       "    </tr>\n",
       "    <tr>\n",
       "      <th>3</th>\n",
       "      <td>8.208500</td>\n",
       "    </tr>\n",
       "    <tr>\n",
       "      <th>4</th>\n",
       "      <td>19.691168</td>\n",
       "    </tr>\n",
       "    <tr>\n",
       "      <th>5</th>\n",
       "      <td>36.787944</td>\n",
       "    </tr>\n",
       "  </tbody>\n",
       "</table>\n",
       "</div>"
      ],
      "text/plain": [
       "                   tiv\n",
       "coverage_id           \n",
       "1             0.673795\n",
       "2             2.664910\n",
       "3             8.208500\n",
       "4            19.691168\n",
       "5            36.787944"
      ]
     },
     "execution_count": 16,
     "metadata": {},
     "output_type": "execute_result"
    }
   ],
   "source": [
    "coverages = area_perils[['tiv']].copy()\n",
    "coverages.index.name = 'coverage_id'\n",
    "coverages.head()"
   ]
  },
  {
   "cell_type": "code",
   "execution_count": 17,
   "metadata": {
    "slideshow": {
     "slide_type": "subslide"
    }
   },
   "outputs": [
    {
     "data": {
      "text/html": [
       "<div>\n",
       "<style scoped>\n",
       "    .dataframe tbody tr th:only-of-type {\n",
       "        vertical-align: middle;\n",
       "    }\n",
       "\n",
       "    .dataframe tbody tr th {\n",
       "        vertical-align: top;\n",
       "    }\n",
       "\n",
       "    .dataframe thead th {\n",
       "        text-align: right;\n",
       "    }\n",
       "</style>\n",
       "<table border=\"1\" class=\"dataframe\">\n",
       "  <thead>\n",
       "    <tr style=\"text-align: right;\">\n",
       "      <th></th>\n",
       "      <th>coverage_id</th>\n",
       "      <th>areaperil_id</th>\n",
       "      <th>vulnerability_id</th>\n",
       "      <th>group_id</th>\n",
       "    </tr>\n",
       "    <tr>\n",
       "      <th>item_id</th>\n",
       "      <th></th>\n",
       "      <th></th>\n",
       "      <th></th>\n",
       "      <th></th>\n",
       "    </tr>\n",
       "  </thead>\n",
       "  <tbody>\n",
       "    <tr>\n",
       "      <th>1</th>\n",
       "      <td>1</td>\n",
       "      <td>1</td>\n",
       "      <td>1</td>\n",
       "      <td>1</td>\n",
       "    </tr>\n",
       "    <tr>\n",
       "      <th>2</th>\n",
       "      <td>2</td>\n",
       "      <td>2</td>\n",
       "      <td>1</td>\n",
       "      <td>2</td>\n",
       "    </tr>\n",
       "    <tr>\n",
       "      <th>3</th>\n",
       "      <td>3</td>\n",
       "      <td>3</td>\n",
       "      <td>1</td>\n",
       "      <td>3</td>\n",
       "    </tr>\n",
       "    <tr>\n",
       "      <th>4</th>\n",
       "      <td>4</td>\n",
       "      <td>4</td>\n",
       "      <td>1</td>\n",
       "      <td>4</td>\n",
       "    </tr>\n",
       "    <tr>\n",
       "      <th>5</th>\n",
       "      <td>5</td>\n",
       "      <td>5</td>\n",
       "      <td>1</td>\n",
       "      <td>5</td>\n",
       "    </tr>\n",
       "  </tbody>\n",
       "</table>\n",
       "</div>"
      ],
      "text/plain": [
       "         coverage_id  areaperil_id  vulnerability_id  group_id\n",
       "item_id                                                       \n",
       "1                  1             1                 1         1\n",
       "2                  2             2                 1         2\n",
       "3                  3             3                 1         3\n",
       "4                  4             4                 1         4\n",
       "5                  5             5                 1         5"
      ]
     },
     "execution_count": 17,
     "metadata": {},
     "output_type": "execute_result"
    }
   ],
   "source": [
    "items = (area_perils.reset_index()[['areaperil_id']].copy()\n",
    "         .assign(vulnerability_id=vuln_id)\n",
    "         .assign(coverage_id=area_perils.index)\n",
    "         .assign(item_id=area_perils.index)\n",
    "         .assign(group_id=area_perils.index)\n",
    "         .set_index('item_id')\n",
    "         [['coverage_id', 'areaperil_id', 'vulnerability_id', 'group_id']]\n",
    "        )\n",
    "items.head()"
   ]
  },
  {
   "cell_type": "markdown",
   "metadata": {
    "slideshow": {
     "slide_type": "subslide"
    }
   },
   "source": [
    "### Summary xref\n",
    "The summary xref defines how granular we want our loss results. \n",
    "\n",
    "We want to sum the losses over all grid points and output a loss per event and per loss sample\n",
    "\n",
    "| Name                  | Type   |  Bytes | Description                                   | Example  |\n",
    "|:----------------------|--------|--------|:----------------------------------------------|---------:|\n",
    "| item_id / coverage_id | int    |    4   | Identifier of the item or coverage            |   3      |\n",
    "| summary_id            | int    |    4   | Identifier of the summary level grouping      |   3      |\n",
    "| summaryset_id         | int    |    4   | Identifier of the summary set                 |   1      |"
   ]
  },
  {
   "cell_type": "code",
   "execution_count": 18,
   "metadata": {
    "slideshow": {
     "slide_type": "subslide"
    }
   },
   "outputs": [
    {
     "data": {
      "text/html": [
       "<div>\n",
       "<style scoped>\n",
       "    .dataframe tbody tr th:only-of-type {\n",
       "        vertical-align: middle;\n",
       "    }\n",
       "\n",
       "    .dataframe tbody tr th {\n",
       "        vertical-align: top;\n",
       "    }\n",
       "\n",
       "    .dataframe thead th {\n",
       "        text-align: right;\n",
       "    }\n",
       "</style>\n",
       "<table border=\"1\" class=\"dataframe\">\n",
       "  <thead>\n",
       "    <tr style=\"text-align: right;\">\n",
       "      <th></th>\n",
       "      <th>item_id</th>\n",
       "      <th>summary_id</th>\n",
       "      <th>summaryset_id</th>\n",
       "    </tr>\n",
       "  </thead>\n",
       "  <tbody>\n",
       "    <tr>\n",
       "      <th>0</th>\n",
       "      <td>1</td>\n",
       "      <td>1</td>\n",
       "      <td>1</td>\n",
       "    </tr>\n",
       "    <tr>\n",
       "      <th>1</th>\n",
       "      <td>2</td>\n",
       "      <td>1</td>\n",
       "      <td>1</td>\n",
       "    </tr>\n",
       "    <tr>\n",
       "      <th>2</th>\n",
       "      <td>3</td>\n",
       "      <td>1</td>\n",
       "      <td>1</td>\n",
       "    </tr>\n",
       "    <tr>\n",
       "      <th>3</th>\n",
       "      <td>4</td>\n",
       "      <td>1</td>\n",
       "      <td>1</td>\n",
       "    </tr>\n",
       "    <tr>\n",
       "      <th>4</th>\n",
       "      <td>5</td>\n",
       "      <td>1</td>\n",
       "      <td>1</td>\n",
       "    </tr>\n",
       "  </tbody>\n",
       "</table>\n",
       "</div>"
      ],
      "text/plain": [
       "   item_id  summary_id  summaryset_id\n",
       "0        1           1              1\n",
       "1        2           1              1\n",
       "2        3           1              1\n",
       "3        4           1              1\n",
       "4        5           1              1"
      ]
     },
     "execution_count": 18,
     "metadata": {},
     "output_type": "execute_result"
    }
   ],
   "source": [
    "gulsummaryxref = pd.DataFrame({\n",
    "    'item_id': area_perils.index,\n",
    "    'summary_id': 1,\n",
    "    'summaryset_id': 1\n",
    "})\n",
    "gulsummaryxref.head()"
   ]
  },
  {
   "cell_type": "markdown",
   "metadata": {
    "slideshow": {
     "slide_type": "slide"
    }
   },
   "source": [
    "## Write our input files \n",
    "Same as for the static folders, but in a different folder"
   ]
  },
  {
   "cell_type": "code",
   "execution_count": 19,
   "metadata": {
    "slideshow": {
     "slide_type": "subslide"
    }
   },
   "outputs": [],
   "source": [
    "# Write to file\n",
    "if os.path.exists('input'):\n",
    "    shutil.rmtree('input')\n",
    "os.makedirs(\"input\")\n",
    "\n",
    "# Which events we want to run (all of them)\n",
    "events.reset_index()['event_id'].to_csv('input/events.csv', index=False, header=True)\n",
    "\n",
    "# Exposure inputs\n",
    "coverages.to_csv(\"input/coverages.csv\", index=True)\n",
    "items.to_csv(\"input/items.csv\", index=True)\n",
    "\n",
    "# Output mapping\n",
    "gulsummaryxref.to_csv(\"input/gulsummaryxref.csv\", index=False)"
   ]
  },
  {
   "cell_type": "markdown",
   "metadata": {
    "slideshow": {
     "slide_type": "subslide"
    }
   },
   "source": [
    "### Convert to binary format"
   ]
  },
  {
   "cell_type": "code",
   "execution_count": 20,
   "metadata": {
    "slideshow": {
     "slide_type": "subslide"
    }
   },
   "outputs": [],
   "source": [
    "%%bash \n",
    "PATH=./venv/bin/:$PATH\n",
    "evetobin < input/events.csv > input/events.bin\n",
    "coveragetobin < input/coverages.csv > input/coverages.bin\n",
    "itemtobin < input/items.csv > input/items.bin\n",
    "gulsummaryxreftobin < input/gulsummaryxref.csv > input/gulsummaryxref.bin"
   ]
  },
  {
   "cell_type": "markdown",
   "metadata": {
    "slideshow": {
     "slide_type": "slide"
    }
   },
   "source": [
    "## Run the OASIS ktools calculation\n",
    "Now all our input/static files are in place, we can run the workflow, piping output of one module to another\n",
    "\n",
    "1. eve divides up the events into calculation streams\n",
    "2. getmodel finds the areaperils and vulnerability curves needed, then calculates damage distribution functions for each event and each location\n",
    "3. gulcalc samples the distribution functions to calculate losses\n",
    "4. summarycalc applies the mapping to produce the output losses at requested granularity"
   ]
  },
  {
   "cell_type": "code",
   "execution_count": 21,
   "metadata": {
    "slideshow": {
     "slide_type": "subslide"
    }
   },
   "outputs": [],
   "source": [
    "# How many uncertainty samples do we want\n",
    "n_samples = 100"
   ]
  },
  {
   "cell_type": "code",
   "execution_count": 22,
   "metadata": {
    "slideshow": {
     "slide_type": "subslide"
    }
   },
   "outputs": [],
   "source": [
    "%%bash -s \"$n_samples\"\n",
    "PATH=./venv/bin/:$PATH\n",
    "eve 1 1 | getmodel | \\\n",
    "    gulcalc -S$1 -s1234 -a0 -c - | \\\n",
    "    summarycalc -g -1 - | \\\n",
    "    summarycalctocsv > summarycalc.csv"
   ]
  },
  {
   "cell_type": "markdown",
   "metadata": {
    "slideshow": {
     "slide_type": "slide"
    }
   },
   "source": [
    "## Check the output\n",
    "summarycalc file has a loss for each summary_id in the xref file, and each event and each uncertainty sample\n",
    "\n",
    "sidx = -1 is the analytical mean loss"
   ]
  },
  {
   "cell_type": "code",
   "execution_count": 23,
   "metadata": {
    "slideshow": {
     "slide_type": "subslide"
    }
   },
   "outputs": [
    {
     "data": {
      "text/html": [
       "<div>\n",
       "<style scoped>\n",
       "    .dataframe tbody tr th:only-of-type {\n",
       "        vertical-align: middle;\n",
       "    }\n",
       "\n",
       "    .dataframe tbody tr th {\n",
       "        vertical-align: top;\n",
       "    }\n",
       "\n",
       "    .dataframe thead th {\n",
       "        text-align: right;\n",
       "    }\n",
       "</style>\n",
       "<table border=\"1\" class=\"dataframe\">\n",
       "  <thead>\n",
       "    <tr style=\"text-align: right;\">\n",
       "      <th></th>\n",
       "      <th></th>\n",
       "      <th>loss</th>\n",
       "    </tr>\n",
       "    <tr>\n",
       "      <th>event_id</th>\n",
       "      <th>sidx</th>\n",
       "      <th></th>\n",
       "    </tr>\n",
       "  </thead>\n",
       "  <tbody>\n",
       "    <tr>\n",
       "      <th rowspan=\"5\" valign=\"top\">368</th>\n",
       "      <th>1</th>\n",
       "      <td>0.33</td>\n",
       "    </tr>\n",
       "    <tr>\n",
       "      <th>2</th>\n",
       "      <td>0.27</td>\n",
       "    </tr>\n",
       "    <tr>\n",
       "      <th>3</th>\n",
       "      <td>0.73</td>\n",
       "    </tr>\n",
       "    <tr>\n",
       "      <th>4</th>\n",
       "      <td>0.78</td>\n",
       "    </tr>\n",
       "    <tr>\n",
       "      <th>5</th>\n",
       "      <td>2.01</td>\n",
       "    </tr>\n",
       "  </tbody>\n",
       "</table>\n",
       "</div>"
      ],
      "text/plain": [
       "               loss\n",
       "event_id sidx      \n",
       "368      1     0.33\n",
       "         2     0.27\n",
       "         3     0.73\n",
       "         4     0.78\n",
       "         5     2.01"
      ]
     },
     "execution_count": 23,
     "metadata": {},
     "output_type": "execute_result"
    }
   ],
   "source": [
    "# Read the file\n",
    "sumcalc = pd.read_csv(\"summarycalc.csv\").set_index(['summary_id', 'event_id', 'sidx'])\n",
    "sumcalc = sumcalc.loc[1].drop(-1, axis=0, level='sidx')\n",
    "sumcalc.head()"
   ]
  },
  {
   "cell_type": "code",
   "execution_count": 24,
   "metadata": {
    "slideshow": {
     "slide_type": "subslide"
    }
   },
   "outputs": [
    {
     "name": "stdout",
     "output_type": "stream",
     "text": [
      "AAL = 14.38\n"
     ]
    }
   ],
   "source": [
    "# Calculate the average annual loss\n",
    "aal = sumcalc['loss'].sum() / n_years / n_samples\n",
    "print(f\"AAL = {aal:,.2f}\")"
   ]
  },
  {
   "cell_type": "code",
   "execution_count": 25,
   "metadata": {
    "slideshow": {
     "slide_type": "subslide"
    }
   },
   "outputs": [],
   "source": [
    "# Combine the summarycalc with the event information to get a year loss table\n",
    "ylt = sumcalc.join(events['time']).reset_index()\n",
    "ylt['year'] = np.floor(ylt['time'])\n",
    "ylt = ylt.groupby(['year', 'sidx'])['loss'].agg(['sum', 'max'])"
   ]
  },
  {
   "cell_type": "code",
   "execution_count": 26,
   "metadata": {
    "slideshow": {
     "slide_type": "subslide"
    }
   },
   "outputs": [
    {
     "data": {
      "image/png": "[encoded data removed]",
      "text/plain": [
       "<Figure size 432x288 with 1 Axes>"
      ]
     },
     "metadata": {},
     "output_type": "display_data"
    }
   ],
   "source": [
    "ep_curve = ylt.sort_values('sum', ascending=False)\n",
    "ep_curve['ex_prob'] = np.arange(1, len(ep_curve) + 1) / n_years / n_samples\n",
    "ep_curve['return_period'] = 1 / ep_curve['ex_prob']\n",
    "ax = ep_curve.plot('sum', 'ex_prob', grid=True)\n",
    "_ = ax.set(xlabel='Year Loss', ylabel='Exceedance Probability')"
   ]
  }
 ],
 "metadata": {
  "celltoolbar": "Slideshow",
  "kernelspec": {
   "display_name": "Python 3",
   "language": "python",
   "name": "python3"
  },
  "language_info": {
   "codemirror_mode": {
    "name": "ipython",
    "version": 3
   },
   "file_extension": ".py",
   "mimetype": "text/x-python",
   "name": "python",
   "nbconvert_exporter": "python",
   "pygments_lexer": "ipython3",
   "version": "3.6.3"
  }
 },
 "nbformat": 4,
 "nbformat_minor": 2
}
